{
 "cells": [
  {
   "cell_type": "markdown",
   "metadata": {},
   "source": [
    "There are two sorted arrays nums1 and nums2 of size m and n respectively.\n",
    "\n",
    "Find the median of the two sorted arrays. The overall run time complexity should be O(log (m+n)).\n",
    "\n",
    "You may assume nums1 and nums2 cannot be both empty.\n",
    "\n",
    "Example 1:\n",
    "\n",
    "nums1 = [1, 3]\n",
    "nums2 = [2]\n",
    "\n",
    "The median is 2.0\n",
    "Example 2:\n",
    "\n",
    "nums1 = [1, 2]\n",
    "nums2 = [3, 4]\n",
    "\n",
    "The median is (2 + 3)/2 = 2.5"
   ]
  },
  {
   "cell_type": "code",
   "execution_count": 26,
   "metadata": {},
   "outputs": [
    {
     "name": "stdout",
     "output_type": "stream",
     "text": [
      "2\n"
     ]
    }
   ],
   "source": [
    "# my solution\n",
    "def findMedianSortedArrays(nums1, nums2):       \n",
    "        list = nums1+nums2\n",
    "        list1 = sorted(list)\n",
    "        n = len(list1)\n",
    "        if n % 2 != 0:\n",
    "            median = list1[int(n//2)]\n",
    "            \n",
    "        else:\n",
    "            median = (list1[int((n/2)-1)]+ list1[int(n/2)])/2\n",
    "        return median\n",
    "l1 = [1,3]\n",
    "l2 = [2]\n",
    "res = findMedianSortedArrays(l1,l2)\n",
    "print(res)"
   ]
  },
  {
   "cell_type": "code",
   "execution_count": 21,
   "metadata": {},
   "outputs": [
    {
     "data": {
      "text/plain": [
       "0"
      ]
     },
     "execution_count": 21,
     "metadata": {},
     "output_type": "execute_result"
    }
   ],
   "source": [
    "int(False)"
   ]
  },
  {
   "cell_type": "code",
   "execution_count": 27,
   "metadata": {},
   "outputs": [
    {
     "data": {
      "text/plain": [
       "6.5"
      ]
     },
     "execution_count": 27,
     "metadata": {},
     "output_type": "execute_result"
    }
   ],
   "source": [
    "# up solution1\n",
    "def findMedianSortedArrays(nums1, nums2): \n",
    "    nums3 = nums1 + nums2\n",
    "    nums3.sort()\n",
    "    i = len(nums3) // 2  # 求商\n",
    "    j = len(nums3) // 2 - int(len(nums3)%2 == 0) \n",
    "#     print(i, j)\n",
    "    return (nums3[i]+nums3[j])/2\n",
    "\n",
    "nums1=[1,2,3,4,5,6]\n",
    "nums2=[7,8,9,10,11,12]\n",
    "findMedianSortedArrays(nums1,nums2)\n",
    "#num3=12时，i=6，j=5， return (nums3[6]+nums3[5])/2\n",
    "#num3=13时，i=6，j=6， return (nums3[6]+nums3[6])//2\n",
    "# not stastify time complexity is O(log(m+n))"
   ]
  },
  {
   "cell_type": "code",
   "execution_count": 31,
   "metadata": {},
   "outputs": [
    {
     "data": {
      "text/plain": [
       "6.5"
      ]
     },
     "execution_count": 31,
     "metadata": {},
     "output_type": "execute_result"
    }
   ],
   "source": [
    "# up_solution2 from ZhiHu\n",
    "def median(A,B):\n",
    "    m, n = len(A), len(B)\n",
    "    if m > n:\n",
    "        # 二分法操作短的列表，减少时间复杂度\n",
    "        A,B,m,n = B,A,n,m\n",
    "    if n == 0:\n",
    "        raise ValueError\n",
    "    # 小堆的i查找范围为0-m,//为向下取整,分子是奇是偶都通用\n",
    "    # 这里+1表示，左边是大堆，即m+n为奇数时，中位数会在左边产生\n",
    "    imin,imax,half_len = 0, m, (m+n+1)//2\n",
    "    while imin <= imax: # 在范围内，对i进行搜索，寻找满足等式要求的i值\n",
    "        i = (imin+imax)//2  # 0-m范围内设置为二分查找点\n",
    "        j = half_len-i  # j满足的等式\n",
    "        # i非右边缘时，但不满足条件，需要增加i，向右查找\n",
    "        if i < m and B[j-1] > A[i]:\n",
    "            # i 的值太小，增加它\n",
    "            imin = i + 1\n",
    "        # i非左边缘时，但不满足条件，需要减小i，向左查找\n",
    "        elif i > 0 and A[i-1] > B[j]:\n",
    "            # i 的值过大，减小它\n",
    "            imax = i -1\n",
    "        else:\n",
    "            # i is perfect, i和j若是边缘时，只需要求一个值即可\n",
    "            if i == 0: max_of_left = B[j-1]\n",
    "            elif j ==0: max_of_left = A[i-1]\n",
    "            # 若非全是边缘，正常求，左边缘取最大，右边缘取最小\n",
    "            else: max_of_left = max(A[i-1], B[j-1])\n",
    "            \n",
    "            # 当是总数为奇数时，中位数就在左边缘产生\n",
    "            if (m+n)%2 == 1:\n",
    "                return max_of_left\n",
    "            \n",
    "            if i == m : min_of_right = B[j]\n",
    "            elif j == n : min_of_right = A[i]\n",
    "            else: min_of_right = min(A[i], B[j])\n",
    "                \n",
    "            return (max_of_left + min_of_right)/2\n",
    "                \n",
    "            \n",
    "nums1=[1,2,3,4,5,6]\n",
    "nums2=[7,8,9,10,11,12]\n",
    "median(nums1,nums2)    "
   ]
  },
  {
   "cell_type": "code",
   "execution_count": null,
   "metadata": {},
   "outputs": [],
   "source": []
  }
 ],
 "metadata": {
  "kernelspec": {
   "display_name": "Python 3",
   "language": "python",
   "name": "python3"
  },
  "language_info": {
   "codemirror_mode": {
    "name": "ipython",
    "version": 3
   },
   "file_extension": ".py",
   "mimetype": "text/x-python",
   "name": "python",
   "nbconvert_exporter": "python",
   "pygments_lexer": "ipython3",
   "version": "3.7.0"
  },
  "toc": {
   "base_numbering": 1,
   "nav_menu": {},
   "number_sections": true,
   "sideBar": true,
   "skip_h1_title": false,
   "title_cell": "Table of Contents",
   "title_sidebar": "Contents",
   "toc_cell": false,
   "toc_position": {},
   "toc_section_display": true,
   "toc_window_display": false
  }
 },
 "nbformat": 4,
 "nbformat_minor": 2
}
