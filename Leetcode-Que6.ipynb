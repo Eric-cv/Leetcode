{
 "cells": [
  {
   "cell_type": "markdown",
   "metadata": {},
   "source": [
    "The string \"PAYPALISHIRING\" is written in a zigzag pattern on a given number of rows like this: (you may want to display this pattern in a fixed font for better legibility)  \n",
    "\n",
    "P   A   H   N  \n",
    "A P L S I I G  \n",
    "Y   I   R  \n",
    "And then read line by line: \"PAHNAPLSIIGYIR\"  \n",
    "\n",
    "Write the code that will take a string and make this conversion given a number of rows:  \n",
    "\n",
    "string convert(string s, int numRows);  \n",
    "Example 1:  \n",
    "\n",
    "Input: s = \"PAYPALISHIRING\", numRows = 3  \n",
    "Output: \"PAHNAPLSIIGYIR\"  \n",
    "Example 2:  \n",
    "\n",
    "Input: s = \"PAYPALISHIRING\", numRows = 4  \n",
    "Output: \"PINALSIGYAHRPI\"  \n",
    "Explanation:  \n",
    "\n",
    "P     I    N  \n",
    "A   L S  I G  \n",
    "Y A   H R  \n",
    "P     I  "
   ]
  },
  {
   "cell_type": "code",
   "execution_count": null,
   "metadata": {},
   "outputs": [],
   "source": [
    "# solution up\n",
    "# 思路:对行编号，将不同行看成是列表的不同的元素，四行列表含有四个元素  \n",
    "# 计算每个元素储存了哪些字符，得到列表后，使用''.join()将列表元素与''进行拼接得到连续字符串\n",
    "0  P     I    N  \n",
    "1  A   L S  I G  \n",
    "2  Y A   H R  \n",
    "3  P     I \n",
    "# 如何储存？\n",
    "# 按照PAYPALISHIRING的顺序，我们发现行号的变化规律：\n",
    "# 01232101232101\n",
    "# 即从0开始增大到numRows-1, 在从numRows-1减小到0，不断循环\n",
    "# 因此只需要按照此顺序储存即可"
   ]
  },
  {
   "cell_type": "code",
   "execution_count": 4,
   "metadata": {},
   "outputs": [
    {
     "name": "stdout",
     "output_type": "stream",
     "text": [
      "PINALSIGYAHRPI\n"
     ]
    }
   ],
   "source": [
    "def convert(s, numRows):\n",
    "    # 所给的行数就为1，或行数大于字符串本身的长度时，没有zigzag，直接返回字符串s\n",
    "    if numRows == 1 or numRows >= len(s):\n",
    "        return s\n",
    "    # 建立存放zigzag排列字符的列表\n",
    "    zigzag = ['' for i in range(numRows)]\n",
    "    # 行起始位置，step步长\n",
    "    row, step = 0, 1    \n",
    "    for crct in s:\n",
    "        # 存放字符至zigzag列表指定元素位置\n",
    "        zigzag[row] += crct\n",
    "        if row == 0:\n",
    "            step = 1\n",
    "        elif row == numRows-1:\n",
    "            step = -1\n",
    "        row += step\n",
    "        \n",
    "    return ''.join(zigzag)\n",
    "\n",
    "\n",
    "s = 'PAYPALISHIRING'\n",
    "res = convert(s, 4)\n",
    "print(res)"
   ]
  },
  {
   "cell_type": "code",
   "execution_count": null,
   "metadata": {},
   "outputs": [],
   "source": []
  }
 ],
 "metadata": {
  "kernelspec": {
   "display_name": "Python 3",
   "language": "python",
   "name": "python3"
  },
  "language_info": {
   "codemirror_mode": {
    "name": "ipython",
    "version": 3
   },
   "file_extension": ".py",
   "mimetype": "text/x-python",
   "name": "python",
   "nbconvert_exporter": "python",
   "pygments_lexer": "ipython3",
   "version": "3.7.0"
  },
  "toc": {
   "base_numbering": 1,
   "nav_menu": {},
   "number_sections": true,
   "sideBar": true,
   "skip_h1_title": false,
   "title_cell": "Table of Contents",
   "title_sidebar": "Contents",
   "toc_cell": false,
   "toc_position": {},
   "toc_section_display": true,
   "toc_window_display": false
  }
 },
 "nbformat": 4,
 "nbformat_minor": 2
}
