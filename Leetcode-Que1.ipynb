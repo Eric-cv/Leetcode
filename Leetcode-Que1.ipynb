{
 "cells": [
  {
   "cell_type": "markdown",
   "metadata": {},
   "source": [
    "## Que1\n",
    "Given an array of integers, return indices of the two numbers such that they add up to a specific target.\n",
    "\n",
    "You may assume that each input would have exactly one solution, and you may not use the same element twice.\n",
    "\n",
    "Example:\n",
    "\n",
    "Given nums = [2, 7, 11, 15], target = 9,\n",
    "\n",
    "Because nums[0] + nums[1] = 2 + 7 = 9,\n",
    "return [0, 1]."
   ]
  },
  {
   "cell_type": "markdown",
   "metadata": {},
   "source": [
    "### my_soultion"
   ]
  },
  {
   "cell_type": "code",
   "execution_count": 36,
   "metadata": {},
   "outputs": [
    {
     "name": "stdout",
     "output_type": "stream",
     "text": [
      "[0, 1]\n"
     ]
    }
   ],
   "source": [
    "# exhaustive search\n",
    "class Solution:\n",
    "    def twoSum(nums, target):\n",
    "        n = len(nums)\n",
    "        i = 0\n",
    "        for i in range(n):\n",
    "            for j in range(i+1, n):\n",
    "                if nums[i] + nums[j] == target:\n",
    "                    return [i, j]\n",
    "\n",
    "# res = Solution.twoSum([3,3], 6)\n",
    "res = Solution.twoSum([3,4], 7)\n",
    "print(res)\n",
    "\n",
    "# 5964 ms,14.9MB"
   ]
  },
  {
   "cell_type": "markdown",
   "metadata": {},
   "source": [
    "### up_soultion"
   ]
  },
  {
   "cell_type": "code",
   "execution_count": 32,
   "metadata": {},
   "outputs": [
    {
     "name": "stdout",
     "output_type": "stream",
     "text": [
      "[0, 0]\n"
     ]
    }
   ],
   "source": [
    "# solution 1\n",
    "def twoSum(nums, target):\n",
    "    for i in nums:\n",
    "        start_index = nums.index(i)\n",
    "        next_index = start_index+1\n",
    "        temp_list = nums[next_index :]\n",
    "        if target-i in temp_list:\n",
    "            return [start_index, nums.index(target-i)]\n",
    "    else:\n",
    "        None\n",
    "# res = twoSum([3,4], 7)\n",
    "# when two num is equal, algorithem not satistifed \n",
    "res = twoSum([3,3], 6)\n",
    "print(res)"
   ]
  },
  {
   "cell_type": "markdown",
   "metadata": {},
   "source": [
    "循环整个列表  \n",
    "拿出第一个元素i，同时使用list.index记录下标nums.index(i)   \n",
    "拿出其后一个元素的下标next_index=nums.index(i)+1  \n",
    "对其后一个元素至列表尾做切片nums[next_index :]  \n",
    "判断taregt-i是否在切片列表内  \n",
    "如果在，返回索引[nums.index(i), nums.index(target-i)]"
   ]
  },
  {
   "cell_type": "code",
   "execution_count": 30,
   "metadata": {},
   "outputs": [
    {
     "name": "stdout",
     "output_type": "stream",
     "text": [
      "[0, 1]\n"
     ]
    }
   ],
   "source": [
    "# solution 2\n",
    "def twoSum(nums, target):\n",
    "    cache = {}\n",
    "    for idx, num in enumerate(nums):\n",
    "        cur = target - num\n",
    "        if num in cache:\n",
    "            return [cache[num], idx]\n",
    "        else:\n",
    "            cache[cur] = idx\n",
    "    return None\n",
    "\n",
    "# res = twoSum([3,3], 6)\n",
    "res = twoSum([3,4], 7)\n",
    "print(res)\n",
    "\n",
    "# 48 ms, 15.2MB"
   ]
  },
  {
   "cell_type": "markdown",
   "metadata": {},
   "source": [
    "使用字典cache作为容器，存放值和下标  \n",
    "假设nums=[2,3,4,5]， target=5  \n",
    "idx=0, num=2, cur=3, cache[3]=0  \n",
    "idx=1, num=3, cur=2, num is in cache  \n",
    "return [cache[3], idx] ---> [0, 1]  \n",
    "思路：  \n",
    "首先拿出列表的第一个值num1和下标idx1，如果num1不在cache中，  \n",
    "我们就把target-num1作为cache的键，而idx1作为cache的值,即idx1=cache[target-num1]       \n",
    "每次判断列表中拿出的值num2,下标idx2是否在cache中，如果在，就证明它等于某一个数的差值，即num2=target-num1，  \n",
    "则num1+num2=target，这两个值就满足条件，所以，此时要返回这两个数的下标，一个是之前存在cache的差值，即num2,  \n",
    "另一个就是当前下标，分别是cache [num2](idx1), idx2  "
   ]
  },
  {
   "cell_type": "markdown",
   "metadata": {},
   "source": []
  }
 ],
 "metadata": {
  "kernelspec": {
   "display_name": "Python 3",
   "language": "python",
   "name": "python3"
  },
  "language_info": {
   "codemirror_mode": {
    "name": "ipython",
    "version": 3
   },
   "file_extension": ".py",
   "mimetype": "text/x-python",
   "name": "python",
   "nbconvert_exporter": "python",
   "pygments_lexer": "ipython3",
   "version": "3.7.0"
  },
  "toc": {
   "base_numbering": 1,
   "nav_menu": {},
   "number_sections": true,
   "sideBar": true,
   "skip_h1_title": false,
   "title_cell": "Table of Contents",
   "title_sidebar": "Contents",
   "toc_cell": false,
   "toc_position": {},
   "toc_section_display": true,
   "toc_window_display": false
  }
 },
 "nbformat": 4,
 "nbformat_minor": 2
}
