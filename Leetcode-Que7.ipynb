{
 "cells": [
  {
   "cell_type": "markdown",
   "metadata": {},
   "source": [
    "Given a 32-bit signed integer, reverse digits of an integer.\n",
    "\n",
    "Example 1:\n",
    "\n",
    "Input: 123\n",
    "Output: 321\n",
    "Example 2:\n",
    "\n",
    "Input: -123\n",
    "Output: -321\n",
    "Example 3:\n",
    "\n",
    "Input: 120\n",
    "Output: 21  \n",
    "Note:  \n",
    "Assume we are dealing with an environment which could only store integers within the 32-bit signed integer range: [−2^31,  2^31 − 1]. For the purpose of this problem, assume that your function returns 0 when the reversed integer overflows."
   ]
  },
  {
   "cell_type": "code",
   "execution_count": 30,
   "metadata": {},
   "outputs": [],
   "source": [
    "# solution_up\n",
    "# 思路\n",
    "# eg: a = 123\n",
    "# 使用 temp记录a的最后一位： temp = a % 10 = 3\n",
    "# 使用num记录新的取反的字符：num = num*10 + temp = 3， 初始num=0\n",
    "# num*10保证每个新的temp加过来的时候，num都会向左移一位，确保会加到后边\n",
    "# 更新a，a=a//10， a=12\n",
    "# 循环整个过程，直到a==0结束"
   ]
  },
  {
   "cell_type": "code",
   "execution_count": 35,
   "metadata": {},
   "outputs": [
    {
     "name": "stdout",
     "output_type": "stream",
     "text": [
      "0\n"
     ]
    }
   ],
   "source": [
    "def reverse(x):\n",
    "    num = 0\n",
    "    a = abs(x)\n",
    "    while a!= 0:\n",
    "        temp = a % 10  # 取a的最右边的数\n",
    "        num = num *10 + temp  # 放到num的左边第一位\n",
    "        a = a//10  # 更新a\n",
    "    if x > 0 and num <= 2**31-1:\n",
    "        return num\n",
    "    elif x < 0 and num <= 2**31:\n",
    "        return -num\n",
    "    else:\n",
    "        return 0\n",
    "\n",
    "res = reverse(0)\n",
    "print(res)    "
   ]
  },
  {
   "cell_type": "code",
   "execution_count": 32,
   "metadata": {},
   "outputs": [
    {
     "data": {
      "text/plain": [
       "2147483648"
      ]
     },
     "execution_count": 32,
     "metadata": {},
     "output_type": "execute_result"
    }
   ],
   "source": [
    "2**31"
   ]
  }
 ],
 "metadata": {
  "kernelspec": {
   "display_name": "Python 3",
   "language": "python",
   "name": "python3"
  },
  "language_info": {
   "codemirror_mode": {
    "name": "ipython",
    "version": 3
   },
   "file_extension": ".py",
   "mimetype": "text/x-python",
   "name": "python",
   "nbconvert_exporter": "python",
   "pygments_lexer": "ipython3",
   "version": "3.7.0"
  },
  "toc": {
   "base_numbering": 1,
   "nav_menu": {},
   "number_sections": true,
   "sideBar": true,
   "skip_h1_title": false,
   "title_cell": "Table of Contents",
   "title_sidebar": "Contents",
   "toc_cell": false,
   "toc_position": {},
   "toc_section_display": true,
   "toc_window_display": false
  }
 },
 "nbformat": 4,
 "nbformat_minor": 2
}
