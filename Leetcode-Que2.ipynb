{
 "cells": [
  {
   "cell_type": "markdown",
   "metadata": {},
   "source": [
    "You are given two non-empty linked lists representing two non-negative integers. The digits are stored in reverse order and each of their nodes contain a single digit. Add the two numbers and return it as a linked list.\n",
    "\n",
    "You may assume the two numbers do not contain any leading zero, except the number 0 itself.\n",
    "\n",
    "Example:\n",
    "\n",
    "Input: (2 -> 4 -> 3) + (5 -> 6 -> 4)\n",
    "Output: 7 -> 0 -> 8\n",
    "Explanation: 342 + 465 = 807."
   ]
  },
  {
   "cell_type": "code",
   "execution_count": 2,
   "metadata": {},
   "outputs": [],
   "source": [
    "class ListNode:\n",
    "    def __init__(self, x):\n",
    "        self.val = x\n",
    "        self.next = None"
   ]
  },
  {
   "cell_type": "code",
   "execution_count": 5,
   "metadata": {},
   "outputs": [
    {
     "name": "stdout",
     "output_type": "stream",
     "text": [
      "<__main__.ListNode object at 0x000001DFCF21D2B0> 10086\n"
     ]
    }
   ],
   "source": [
    "a = ListNode(10086)\n",
    "# 输出节点a是一个节点的地址，a.val取到节点的val值\n",
    "print(a, a.val)"
   ]
  },
  {
   "cell_type": "code",
   "execution_count": 20,
   "metadata": {},
   "outputs": [],
   "source": [
    "# assume we wanna get a link_list\n",
    "# a->0->1->2->3->4->5->6->7->8->9\n",
    "# move指针指向节点a\n",
    "move = a\n",
    "\n",
    "for i in range(10):\n",
    "    # 循环初始化0-9的系列节点为temp\n",
    "    temp = ListNode(i)\n",
    "    # 将temp循环挂在节点move尾指针上\n",
    "    move.next = temp\n",
    "    # 将挂在后的节点重新指向move节点，实现循环挂载\n",
    "    move = move.next"
   ]
  },
  {
   "cell_type": "code",
   "execution_count": 22,
   "metadata": {},
   "outputs": [
    {
     "name": "stdout",
     "output_type": "stream",
     "text": [
      "<__main__.ListNode object at 0x000001DFCF2AFE10>\n"
     ]
    }
   ],
   "source": [
    "# 输出节点的第4次挂载的val值\n",
    "print(a.next.next.next.next.val)"
   ]
  },
  {
   "cell_type": "code",
   "execution_count": 12,
   "metadata": {},
   "outputs": [],
   "source": [
    "# cricle link list\n",
    "move = a\n",
    "for i in range(4):\n",
    "    # 循环初始化0-3的系列节点为temp\n",
    "    temp = ListNode(i)\n",
    "    # 将temp循环挂在节点move尾指针上\n",
    "    move.next = temp\n",
    "    # 将挂在后的节点重新指向move节点，实现循环挂载\n",
    "    move = move.next\n",
    "# 链表的尾部又指向头部\n",
    "move.next = a"
   ]
  },
  {
   "cell_type": "code",
   "execution_count": 16,
   "metadata": {},
   "outputs": [
    {
     "name": "stdout",
     "output_type": "stream",
     "text": [
      "<__main__.ListNode object at 0x000001DFCF2AF4E0>\n",
      "10086\n"
     ]
    }
   ],
   "source": [
    "#挂载4个节点，最后指向自身\n",
    "print(a.next.next.next.next.next.val)"
   ]
  },
  {
   "cell_type": "markdown",
   "metadata": {},
   "source": [
    "a = b 又称a指向b，即a指向b的地址，即a和b是相等的，都指向一个地址空间"
   ]
  },
  {
   "cell_type": "markdown",
   "metadata": {},
   "source": [
    "Up solution  \n",
    "Input: (2 -> 4 -> 3) + (5 -> 6 -> 4) Output: 7 -> 0 -> 8 Explanation: 342 + 465 = 807."
   ]
  },
  {
   "cell_type": "code",
   "execution_count": 24,
   "metadata": {},
   "outputs": [
    {
     "ename": "SyntaxError",
     "evalue": "unexpected EOF while parsing (<ipython-input-24-0d19a9c6e64a>, line 18)",
     "output_type": "error",
     "traceback": [
      "\u001b[1;36m  File \u001b[1;32m\"<ipython-input-24-0d19a9c6e64a>\"\u001b[1;36m, line \u001b[1;32m18\u001b[0m\n\u001b[1;33m    \u001b[0m\n\u001b[1;37m    ^\u001b[0m\n\u001b[1;31mSyntaxError\u001b[0m\u001b[1;31m:\u001b[0m unexpected EOF while parsing\n"
     ]
    }
   ],
   "source": [
    "# solution 1\n",
    "# 顺着思路\n",
    "# 链表传的都是头结点，只能通过头结点向下寻址找到所有链表元素\n",
    "def addTwoNumbers(l1, l2):\n",
    "    # 如果只有l2链表，就直接返回l2\n",
    "    if l1 == None:\n",
    "        return l2\n",
    "    # 如果只有l1链表，就直接返回l1\n",
    "    if l2 == None:\n",
    "        return l1\n",
    "    # 如果二者都存在，开始逐位相加，定义carry变量保存进位的数值\n",
    "    carry = 0\n",
    "    # 定义dumy新链表储存按位加得的结果，头结点给为0\n",
    "    dumy = ListNode(0)\n",
    "    # 重新用p执向dumy是因为dumy需要指向链表头部，便于对最后结果的返回\n",
    "    p = dumy  # 滑动指针，存放后面的相加的结果\n",
    "    \n",
    "    # 当l1和l2的节点都不为None，因为此时l1和l2是节点地址，\n",
    "    # 链表是从头节点，不断向下搜索的，\n",
    "    # 当有任何一个为空时截止，因此这个循环表示循环到二个链表长度相等时跳出\n",
    "    while l1 and l2:\n",
    "        # p.next为节点，存放的是和与10的余数\n",
    "        p.next = ListNode((l1.val + l2.val + carry)%10)\n",
    "        # 进位等于和与10的商\n",
    "        carry = (l1.val + l2.val + carry)//10\n",
    "        # 两个链表的节点向下移，更新下一个节点\n",
    "        l1 = l1.next\n",
    "        l2 = l2.next\n",
    "        # 储存节点也同步向下移\n",
    "        p = p.next\n",
    "    \n",
    "    # 当l1和l2长度不相等时，继续计算剩下的节点与carry的和\n",
    "    # 如果l2还有剩余\n",
    "    if l2:\n",
    "        while l2:\n",
    "            p.next = ListNode((l2.val + carry)%10)\n",
    "            carry = (l2.val + carry)//10\n",
    "            l2 = l2.next\n",
    "            p = p.next\n",
    "    # 如果l1还有剩余\n",
    "    if l1:\n",
    "        while l1:\n",
    "            p.next = ListNode((l1.val + carry)%10)\n",
    "            carry = (l1.val + carry)//10\n",
    "            l1 = l1.next\n",
    "            p = p.next\n",
    "    # 最后还要考虑如果最后一位相加carry位还能进1，仍需要储存\n",
    "    if carry == 1:\n",
    "        p.next = ListNode(1)\n",
    "    \n",
    "    # 从新链表的头返回链表的所有值，因为头结点后面是就是我们存的新得到的所有值\n",
    "    # dumy.next是一个链表，即我们得到的结果链表\n",
    "    return dumy.next    \n",
    "    \n",
    "# 72 ms\t13.6 MB"
   ]
  },
  {
   "cell_type": "code",
   "execution_count": null,
   "metadata": {},
   "outputs": [],
   "source": [
    "# solution2\n"
   ]
  }
 ],
 "metadata": {
  "kernelspec": {
   "display_name": "Python 3",
   "language": "python",
   "name": "python3"
  },
  "language_info": {
   "codemirror_mode": {
    "name": "ipython",
    "version": 3
   },
   "file_extension": ".py",
   "mimetype": "text/x-python",
   "name": "python",
   "nbconvert_exporter": "python",
   "pygments_lexer": "ipython3",
   "version": "3.7.0"
  },
  "toc": {
   "base_numbering": 1,
   "nav_menu": {},
   "number_sections": true,
   "sideBar": true,
   "skip_h1_title": false,
   "title_cell": "Table of Contents",
   "title_sidebar": "Contents",
   "toc_cell": false,
   "toc_position": {},
   "toc_section_display": true,
   "toc_window_display": false
  }
 },
 "nbformat": 4,
 "nbformat_minor": 2
}
