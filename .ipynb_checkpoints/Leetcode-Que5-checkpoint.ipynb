{
 "cells": [
  {
   "cell_type": "markdown",
   "metadata": {},
   "source": [
    "Given a string s, find the longest palindromic substring in s. You may assume that the maximum length of s is 1000.\n",
    "\n",
    "Example 1:\n",
    "\n",
    "Input: \"babad\"\n",
    "Output: \"bab\"\n",
    "Note: \"aba\" is also a valid answer.\n",
    "Example 2:\n",
    "\n",
    "Input: \"cbbd\"\n",
    "Output: \"bb\""
   ]
  },
  {
   "cell_type": "code",
   "execution_count": 16,
   "metadata": {},
   "outputs": [
    {
     "name": "stdout",
     "output_type": "stream",
     "text": [
      "abccba\n"
     ]
    }
   ],
   "source": [
    "# up_solution\n",
    "def longestPalindrome(s):\n",
    "    # 定义palidrome储存回文字符串\n",
    "    palindrome = ''\n",
    "    for i in range(len(s)):\n",
    "        # 调用获取传入以字符为中心的最大回文字符串函数\n",
    "        # left=i, right=i, cabac \n",
    "        len1 = len(getlongestpalindrome(s, i, i))\n",
    "        # 如果当前的回文长度大\n",
    "        if len1 > len(palindrome):\n",
    "            # 更新回文字符串\n",
    "            palindrome = getlongestpalindrome(s, i, i)\n",
    "        # left - i, right=i+1, cabbac\n",
    "        len2 = len(getlongestpalindrome(s, i, i+1))\n",
    "        # 如果当前的回文长度大\n",
    "        if len2 > len(palindrome):\n",
    "        # 更新回文字符串\n",
    "            palindrome = getlongestpalindrome(s, i, i+1)\n",
    "    return palindrome\n",
    "\n",
    "# 获取以传入字符为中心的最长回文字符串        \n",
    "def getlongestpalindrome(s,l,r):\n",
    "    # 这里注意l>=0时，l=0肯定能进来，然后l=-1，因此return时，左边l需要+1\n",
    "    # r<len(s)，之所以没有等于是因为，loop内会做一次r=r+1\n",
    "    # len(s)=6, r=5, r+1=6, 切片只能取到5，正好取到列表最后一个\n",
    "    while l >= 0 and r < len(s) and s[l]==s[r]:\n",
    "        l -= 1\n",
    "        r += 1\n",
    "    return s[l+1:r]\n",
    "\n",
    "# s = 'abcbal\n",
    "s = 'abccba'\n",
    "res = longestPalindrome(s)\n",
    "print(res)"
   ]
  },
  {
   "cell_type": "markdown",
   "metadata": {},
   "source": [
    "take care:  \n",
    "The last index in a list is len(list)-1  \n",
    "The last element in a list is list[len(list)-1]  \n",
    "When use list slice, the right edge element can not be get.  \n"
   ]
  },
  {
   "cell_type": "code",
   "execution_count": 19,
   "metadata": {},
   "outputs": [
    {
     "name": "stdout",
     "output_type": "stream",
     "text": [
      "abccba\n"
     ]
    }
   ],
   "source": [
    "# solution 2 引入字符间隙，奇偶统一\n",
    "def longestPalindrome4(s):\n",
    "    len_s=len(s)\n",
    "    if len_s==0:\n",
    "        return ''\n",
    "    maxlen=0\n",
    "    res=''\n",
    "    for i in range(2*len_s-1):\n",
    "        # 奇偶统一，由原来的len_s个，变为2*len_s-1个（len_s个字符和len_s-1个间隙）\n",
    "        # 间隙可以看成就是包含abb的形式，字符可以看成abcba形式\n",
    "        # 序列变为 01234567\n",
    "        # 原来的字符 0 2 4 6 8，间隙是1 3 5 7 9\n",
    "        left=i//2          #i 能被2整除的  都是原来字符串里的字符\n",
    "        right=i//2\n",
    "        if i%2==1:            #这个i代表的字符为字符之间的间隙\n",
    "            right=right+1\n",
    "        sample_s=lengthOfPalindrome(s,left,right)\n",
    "        if maxlen<len(sample_s):\n",
    "            maxlen=len(sample_s)\n",
    "            res=sample_s\n",
    "\n",
    "    return res\n",
    "\n",
    "##寻找以left和right为中心的最长回文子串\n",
    "def lengthOfPalindrome(s,left,right):\n",
    "\n",
    "    while (left>=0 and right<len(s) and s[left]==s[right]):\n",
    "        left=left-1\n",
    "        right=right+1\n",
    "\n",
    "    return s[left+1:right]\n",
    "\n",
    "s = 'abccbaa'\n",
    "res = longestPalindrome4(s)\n",
    "print(res)"
   ]
  }
 ],
 "metadata": {
  "kernelspec": {
   "display_name": "Python 3",
   "language": "python",
   "name": "python3"
  },
  "language_info": {
   "codemirror_mode": {
    "name": "ipython",
    "version": 3
   },
   "file_extension": ".py",
   "mimetype": "text/x-python",
   "name": "python",
   "nbconvert_exporter": "python",
   "pygments_lexer": "ipython3",
   "version": "3.7.0"
  },
  "toc": {
   "base_numbering": 1,
   "nav_menu": {},
   "number_sections": true,
   "sideBar": true,
   "skip_h1_title": false,
   "title_cell": "Table of Contents",
   "title_sidebar": "Contents",
   "toc_cell": false,
   "toc_position": {},
   "toc_section_display": true,
   "toc_window_display": false
  }
 },
 "nbformat": 4,
 "nbformat_minor": 2
}
