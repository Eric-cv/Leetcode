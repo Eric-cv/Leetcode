{
 "cells": [
  {
   "cell_type": "code",
   "execution_count": null,
   "metadata": {},
   "outputs": [],
   "source": [
    "implement atoi which converts a string to an integer.\n",
    "\n",
    "The function first discards as many whitespace characters as necessary until the first non-whitespace character is found. \n",
    "Then, starting from this character, takes an optional initial plus or minus sign followed by as many numerical digits as possible,\n",
    "and interprets them as a numerical value.\n",
    "\n",
    "The string can contain additional characters after those that form the integral number, which are ignored and have no effect \n",
    "on the behavior of this function.\n",
    "\n",
    "If the first sequence of non-whitespace characters in str is not a valid integral number, or if no such sequence exists \n",
    "because either str is empty or it contains only whitespace characters, no conversion is performed.\n",
    "\n",
    "If no valid conversion could be performed, a zero value is returned.\n",
    "\n",
    "Note:\n",
    "\n",
    "Only the space character ' ' is considered as whitespace character.\n",
    "Assume we are dealing with an environment which could only store integers within the 32-bit signed integer range: \n",
    "[−2^31,  2^31 − 1]. \n",
    "If the numerical value is out of the range of representable values, INT_MAX (2^31 − 1) or INT_MIN (−2^31) is returned.\n",
    "Example 1:\n",
    "\n",
    "Input: \"42\"\n",
    "Output: 42\n",
    "Example 2:\n",
    "\n",
    "Input: \"   -42\"\n",
    "Output: -42\n",
    "Explanation: The first non-whitespace character is '-', which is the minus sign.\n",
    "             Then take as many numerical digits as possible, which gets 42.\n",
    "Example 3:\n",
    "\n",
    "Input: \"4193 with words\"\n",
    "Output: 4193\n",
    "Explanation: Conversion stops at digit '3' as the next character is not a numerical digit.\n",
    "Example 4:\n",
    "\n",
    "Input: \"words and 987\"\n",
    "Output: 0\n",
    "Explanation: The first non-whitespace character is 'w', which is not a numerical \n",
    "             digit or a +/- sign. Therefore no valid conversion could be performed.\n",
    "Example 5:\n",
    "\n",
    "Input: \"-91283472332\"\n",
    "Output: -2147483648\n",
    "Explanation: The number \"-91283472332\" is out of the range of a 32-bit signed integer.\n",
    "             Thefore INT_MIN (−2^31) is returned."
   ]
  },
  {
   "cell_type": "code",
   "execution_count": 23,
   "metadata": {},
   "outputs": [
    {
     "name": "stdout",
     "output_type": "stream",
     "text": [
      "['0', '1', '2', '3', '4', '5', '6', '7', '8', '9']\n",
      "['0', '1', '2', '3', '4', '5', '6', '7', '8', '9', ' ', '-']\n"
     ]
    }
   ],
   "source": [
    "laws_crct = [str(i) for i in range(10)]\n",
    "print(laws_crct)\n",
    "laws_crct.a\n"
   ]
  },
  {
   "cell_type": "code",
   "execution_count": 71,
   "metadata": {},
   "outputs": [
    {
     "name": "stdout",
     "output_type": "stream",
     "text": [
      "str     +++----++++---2567-+-  \n",
      "str1 +++----++++---2567-+-\n",
      "str2 ----++++---2567-+-\n",
      "str3 ++++---2567-+-\n",
      "str4 ---2567-+-\n"
     ]
    }
   ],
   "source": [
    "str = '    +++----++++---2567-+-  '\n",
    "print('str', str)\n",
    "str1 = str.strip()\n",
    "print('str1',str1)\n",
    "str2 = str1.lstrip('+')\n",
    "print('str2',str2)\n",
    "str3 = str2.lstrip('-')\n",
    "print('str3',str3)\n",
    "str4 = (str3.lstrip('-')).lstrip('+')\n",
    "print('str4', str4)"
   ]
  },
  {
   "cell_type": "code",
   "execution_count": 67,
   "metadata": {},
   "outputs": [
    {
     "name": "stdout",
     "output_type": "stream",
     "text": [
      "None\n",
      "None\n",
      "(6, 9) 582\n",
      "(6, 9) 582\n",
      "(0, 6) --++--\n",
      "(0, 6) --++--\n"
     ]
    }
   ],
   "source": [
    "import re\n",
    "s = '娜扎热巴佟丽娅代斯'\n",
    "# result = re.search('佟丽娅', s)\n",
    "result = re.match('佟丽娅', s)\n",
    "print(result)\n",
    "# print(result.span(), result.group()) \n",
    "s1 = '--++--582'\n",
    "s2 = re.match('^\\d+', s1)\n",
    "print(s2)\n",
    "s2 = re.search('\\d+', s1)\n",
    "print(s2.span(), s2.group())\n",
    "s2 = re.search('[\\d]+', s1)\n",
    "print(s2.span(), s2.group())\n",
    "s2 = re.match('[^\\d]+', s1)  # [^\\d] == D 表示任意非数字的字符\n",
    "print(s2.span(), s2.group())\n",
    "s2 = re.match('\\D+', s1)\n",
    "print(s2.span(), s2.group())"
   ]
  },
  {
   "cell_type": "code",
   "execution_count": 90,
   "metadata": {},
   "outputs": [
    {
     "name": "stdout",
     "output_type": "stream",
     "text": [
      "256\n"
     ]
    }
   ],
   "source": [
    "# up_solution \n",
    "def myAtoi(str):\n",
    "    str = str.lstrip()  # 去除两边空格\n",
    "    # 如果字符长度为0，或者第一位不是数字位也不是'+', '-'位，直接返回0\n",
    "    if len(str) == 0 or (str[0].isdigit()==False and str[0] not in ['+', '-']):\n",
    "        return 0\n",
    "    # res此时只能为'+', '-', 或数字位， i从下一个字符开始\n",
    "    res, i = str[0], 1\n",
    "    # 遍历剩下的字符串，如果是数字位就继续向res上拼接，不是就退出循环\n",
    "    while i<len(str) and str[i].isdigit():\n",
    "        res+=str[i]\n",
    "        i+=1\n",
    "    try:\n",
    "        # 这里是防止res只是'+','-'的情况，此时转换类型出错，return 0\n",
    "        # 而且res = '+256', '-256'时都会转换成256和-256 \n",
    "        res=int(res)\n",
    "        # 正常返回res的值,范围用的很巧妙\n",
    "        return min(max(res, -2**31), 2**31-1)\n",
    "    except:\n",
    "        return 0\n",
    "\n",
    "s = '   +256 '\n",
    "res = myAtoi(s)\n",
    "print(res)"
   ]
  }
 ],
 "metadata": {
  "kernelspec": {
   "display_name": "Python 3",
   "language": "python",
   "name": "python3"
  },
  "language_info": {
   "codemirror_mode": {
    "name": "ipython",
    "version": 3
   },
   "file_extension": ".py",
   "mimetype": "text/x-python",
   "name": "python",
   "nbconvert_exporter": "python",
   "pygments_lexer": "ipython3",
   "version": "3.7.0"
  },
  "toc": {
   "base_numbering": 1,
   "nav_menu": {},
   "number_sections": true,
   "sideBar": true,
   "skip_h1_title": false,
   "title_cell": "Table of Contents",
   "title_sidebar": "Contents",
   "toc_cell": false,
   "toc_position": {},
   "toc_section_display": true,
   "toc_window_display": false
  }
 },
 "nbformat": 4,
 "nbformat_minor": 2
}
